{
 "cells": [
  {
   "cell_type": "code",
   "execution_count": 1,
   "metadata": {},
   "outputs": [],
   "source": [
    "%load_ext Cython"
   ]
  },
  {
   "cell_type": "code",
   "execution_count": 2,
   "metadata": {},
   "outputs": [],
   "source": [
    "import numpy as np\n",
    "import pandas as pd\n",
    "\n",
    "def target_mean_v1(data, y_name, x_name):\n",
    "    result = np.zeros(data.shape[0])\n",
    "    for i in range(data.shape[0]):\n",
    "        groupby_result = data[data.index != i].groupby([x_name], as_index=False).agg(['mean', 'count'])\n",
    "        result[i] = groupby_result.loc[groupby_result.index == data.loc[i, x_name], (y_name, 'mean')]\n",
    "    return result"
   ]
  },
  {
   "cell_type": "code",
   "execution_count": 3,
   "metadata": {},
   "outputs": [],
   "source": [
    "y = np.random.randint(2, size=(500, 1))\n",
    "x = np.random.randint(10, size=(500, 1))\n",
    "data = pd.DataFrame(np.concatenate([y, x], axis=1), columns=['y', 'x'])"
   ]
  },
  {
   "cell_type": "code",
   "execution_count": 4,
   "metadata": {},
   "outputs": [
    {
     "name": "stdout",
     "output_type": "stream",
     "text": [
      "1.34 s ± 13.3 ms per loop (mean ± std. dev. of 7 runs, 1 loop each)\n"
     ]
    }
   ],
   "source": [
    "%timeit target_mean_v1(data, 'y', 'x')"
   ]
  },
  {
   "cell_type": "code",
   "execution_count": 10,
   "metadata": {},
   "outputs": [],
   "source": [
    "%%cython\n",
    "cimport cython\n",
    "cimport numpy as cnp\n",
    "import numpy as np\n",
    "\n",
    "@cython.boundscheck(False)\n",
    "@cython.wraparound(False)\n",
    "def target_mean_v2(cnp.ndarray[long] arr_y, cnp.ndarray[long] arr_x):\n",
    "    cdef int arr_len = 0\n",
    "    arr_len = len(arr_x)\n",
    "    cdef cnp.ndarray[double] result = np.zeros(arr_len)\n",
    "    value_dict = dict()\n",
    "    count_dict = dict()\n",
    "    cdef int i\n",
    "    for i from 0 <= i < arr_len by 1:\n",
    "        x1 = arr_x[i]\n",
    "        y1 = arr_y[i]\n",
    "        if x1 not in value_dict.keys():\n",
    "            value_dict[x1] = y1\n",
    "            count_dict[x1] = 1\n",
    "        else:\n",
    "            value_dict[x1] += y1\n",
    "            count_dict[x1] += 1        \n",
    "    for i from 0 <= i < arr_len by 1:\n",
    "        x1 = arr_x[i]\n",
    "        y1 = arr_y[i]        \n",
    "        result[i] = (value_dict[x1] - y1) / (count_dict[x1] - 1)\n",
    "    return result"
   ]
  },
  {
   "cell_type": "code",
   "execution_count": 11,
   "metadata": {},
   "outputs": [
    {
     "name": "stdout",
     "output_type": "stream",
     "text": [
      "114 µs ± 658 ns per loop (mean ± std. dev. of 7 runs, 10000 loops each)\n"
     ]
    }
   ],
   "source": [
    "arr_y = np.squeeze(y)\n",
    "arr_x = np.squeeze(x)\n",
    "%timeit target_mean_v2(arr_y, arr_x)"
   ]
  },
  {
   "cell_type": "code",
   "execution_count": 13,
   "metadata": {},
   "outputs": [
    {
     "name": "stdout",
     "output_type": "stream",
     "text": [
      "0.0\n"
     ]
    }
   ],
   "source": [
    "result_1 = target_mean_v1(data, 'y', 'x')\n",
    "result_2 = target_mean_v2(arr_y, arr_x)\n",
    "\n",
    "diff = np.linalg.norm(result_1 - result_2)\n",
    "print(diff)"
   ]
  },
  {
   "cell_type": "code",
   "execution_count": null,
   "metadata": {},
   "outputs": [],
   "source": []
  }
 ],
 "metadata": {
  "kernelspec": {
   "display_name": "Python 3",
   "language": "python",
   "name": "python3"
  },
  "language_info": {
   "codemirror_mode": {
    "name": "ipython",
    "version": 3
   },
   "file_extension": ".py",
   "mimetype": "text/x-python",
   "name": "python",
   "nbconvert_exporter": "python",
   "pygments_lexer": "ipython3",
   "version": "3.8.5"
  }
 },
 "nbformat": 4,
 "nbformat_minor": 4
}
